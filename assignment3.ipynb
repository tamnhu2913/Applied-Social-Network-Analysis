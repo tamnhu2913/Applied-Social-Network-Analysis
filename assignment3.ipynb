{
  "cells": [
    {
      "cell_type": "markdown",
      "metadata": {
        "id": "view-in-github",
        "colab_type": "text"
      },
      "source": [
        "<a href=\"https://colab.research.google.com/github/tamnhu2913/Applied-Social-Network-Analysis/blob/main/assignment3.ipynb\" target=\"_parent\"><img src=\"https://colab.research.google.com/assets/colab-badge.svg\" alt=\"Open In Colab\"/></a>"
      ]
    },
    {
      "cell_type": "markdown",
      "metadata": {
        "deletable": false,
        "editable": false,
        "nbgrader": {
          "cell_type": "markdown",
          "checksum": "9f7028006db8b4cc3710b4d43de43280",
          "grade": false,
          "grade_id": "cell-e953200cad3aad76",
          "locked": true,
          "schema_version": 3,
          "solution": false,
          "task": false
        },
        "id": "x3SlB0Zd05Pd"
      },
      "source": [
        "# Assignment 3\n",
        "\n",
        "In this assignment you will explore measures of centrality on two networks, a friendship network in Part 1, and a blog network in Part 2."
      ]
    },
    {
      "cell_type": "markdown",
      "metadata": {
        "deletable": false,
        "editable": false,
        "nbgrader": {
          "cell_type": "markdown",
          "checksum": "2fb6f1ae846047d38a2383d87d331c0b",
          "grade": false,
          "grade_id": "cell-6071c7092df87926",
          "locked": true,
          "schema_version": 3,
          "solution": false,
          "task": false
        },
        "id": "LIMPhJtK05Pf"
      },
      "source": [
        "## Part 1\n",
        "\n",
        "Answer questions 1-4 using the network `G1`, a network of friendships at a university department. Each node corresponds to a person, and an edge indicates friendship.\n",
        "\n",
        "*The network has been loaded as networkx graph object `G1`.*"
      ]
    },
    {
      "cell_type": "code",
      "execution_count": 1,
      "metadata": {
        "deletable": false,
        "editable": false,
        "nbgrader": {
          "cell_type": "code",
          "checksum": "946a663b1817b33c752718e9119705f7",
          "grade": false,
          "grade_id": "cell-0f4638e275ac87e7",
          "locked": true,
          "schema_version": 3,
          "solution": false,
          "task": false
        },
        "id": "PUzormiC05Pf"
      },
      "outputs": [],
      "source": [
        "import networkx as nx\n",
        "\n",
        "G1 = nx.read_gml('assets/friendships.gml')"
      ]
    },
    {
      "cell_type": "markdown",
      "metadata": {
        "deletable": false,
        "editable": false,
        "nbgrader": {
          "cell_type": "markdown",
          "checksum": "3ebe47d07bc27813958dbb8c9bff28a7",
          "grade": false,
          "grade_id": "cell-f01377d58e84e3f1",
          "locked": true,
          "schema_version": 3,
          "solution": false,
          "task": false
        },
        "id": "EUM0U-qg05Pg"
      },
      "source": [
        "### Question 1\n",
        "\n",
        "Find the degree centrality, closeness centrality, and betweeness centrality of node 100.\n",
        "\n",
        "*This function should return a tuple of floats `(degree_centrality, closeness_centrality, betweenness_centrality)`.*"
      ]
    },
    {
      "cell_type": "code",
      "execution_count": 2,
      "metadata": {
        "deletable": false,
        "nbgrader": {
          "cell_type": "code",
          "checksum": "81e556437a7cfbfe626f9231d4fd0092",
          "grade": false,
          "grade_id": "cell-bffef7d5151cb470",
          "locked": false,
          "schema_version": 3,
          "solution": true,
          "task": false
        },
        "colab": {
          "base_uri": "https://localhost:8080/"
        },
        "id": "d8N05pD_05Ph",
        "outputId": "b393399c-833f-4135-cbda-11f5d8ebb57a"
      },
      "outputs": [
        {
          "output_type": "execute_result",
          "data": {
            "text/plain": [
              "(0.0026501766784452294, 0.2654784240150094, 7.142902633244772e-05)"
            ]
          },
          "metadata": {},
          "execution_count": 2
        }
      ],
      "source": [
        "def answer_one():\n",
        "  degCent = nx.degree_centrality(G1)\n",
        "  clCent = nx.closeness_centrality(G1)\n",
        "  betCent = nx.betweenness_centrality(G1)\n",
        "  return (degCent[100],clCent[100],betCent[100])\n",
        "\n",
        "answer_one()"
      ]
    },
    {
      "cell_type": "code",
      "execution_count": 3,
      "metadata": {
        "deletable": false,
        "editable": false,
        "nbgrader": {
          "cell_type": "code",
          "checksum": "91aaaa7546d4501b7e70eb4bb31762b1",
          "grade": true,
          "grade_id": "cell-cd6a99ae1fdd71a9",
          "locked": true,
          "points": 1,
          "schema_version": 3,
          "solution": false,
          "task": false
        },
        "id": "-tCNBchn05Ph"
      },
      "outputs": [],
      "source": [
        "ans_one = answer_one()\n",
        "assert type(ans_one) == tuple, \"You must return a tuple\"\n"
      ]
    },
    {
      "cell_type": "markdown",
      "metadata": {
        "id": "DjvtTrOz05Ph"
      },
      "source": [
        "### Use centrality measures to answer questions 2-4"
      ]
    },
    {
      "cell_type": "markdown",
      "metadata": {
        "id": "V1WcISni05Ph"
      },
      "source": [
        "### Question 2\n",
        "\n",
        "Suppose you are employed by an online shopping website and are tasked with selecting one user in network G1 to send an online shopping voucher to. We expect that the user who receives the voucher will send it to their friends in the network.  You want the voucher to reach as many nodes as possible. The voucher can be forwarded to multiple users at the same time, but the travel distance of the voucher is limited to one step, which means if the voucher travels more than one step in this network, it is no longer valid. Apply your knowledge in network centrality to select the best candidate for the voucher.\n",
        "\n",
        "*This function should return an integer, the chosen node.*"
      ]
    },
    {
      "cell_type": "code",
      "execution_count": 4,
      "metadata": {
        "deletable": false,
        "nbgrader": {
          "cell_type": "code",
          "checksum": "06042ccbc79ace711749f8c184365c6e",
          "grade": false,
          "grade_id": "cell-f6296c30200cc9d0",
          "locked": false,
          "schema_version": 3,
          "solution": true,
          "task": false
        },
        "colab": {
          "base_uri": "https://localhost:8080/"
        },
        "id": "PSNud4cm05Ph",
        "outputId": "e4d7e173-0d46-43dd-a556-dbfbbb01a8d8"
      },
      "outputs": [
        {
          "output_type": "execute_result",
          "data": {
            "text/plain": [
              "105"
            ]
          },
          "metadata": {},
          "execution_count": 4
        }
      ],
      "source": [
        "def answer_two():\n",
        "  degCent = nx.degree_centrality(G1)\n",
        "  max_node = max(degCent, key = degCent.get)\n",
        "  return max_node\n",
        "\n",
        "answer_two()"
      ]
    },
    {
      "cell_type": "code",
      "execution_count": 5,
      "metadata": {
        "deletable": false,
        "editable": false,
        "nbgrader": {
          "cell_type": "code",
          "checksum": "981d4b3020ad5459876023f8beff4c0f",
          "grade": true,
          "grade_id": "cell-d890b05007b8cce5",
          "locked": true,
          "points": 1,
          "schema_version": 3,
          "solution": false,
          "task": false
        },
        "id": "sv63Wl0S05Pi"
      },
      "outputs": [],
      "source": [
        "ans_two = answer_two()\n"
      ]
    },
    {
      "cell_type": "markdown",
      "metadata": {
        "id": "Sy7fHdhH05Pi"
      },
      "source": [
        "### Question 3\n",
        "\n",
        "Now the limit of the voucher’s travel distance has been removed. Because the network is connected, regardless of who you pick, every node in the network will eventually receive the voucher. However, we now want to ensure that the voucher reaches nodes as quickly as possible (i.e. in the fewest number of hops). How will you change your selection strategy? Write a function to tell us who is the best candidate in the network under this condition.\n",
        "\n",
        "*This function should return an integer, the chosen node.*"
      ]
    },
    {
      "cell_type": "code",
      "execution_count": 6,
      "metadata": {
        "deletable": false,
        "nbgrader": {
          "cell_type": "code",
          "checksum": "4c4226f2d0eaec199b401eaa27eba3d2",
          "grade": false,
          "grade_id": "cell-e703cf046ffacac6",
          "locked": false,
          "schema_version": 3,
          "solution": true,
          "task": false
        },
        "colab": {
          "base_uri": "https://localhost:8080/"
        },
        "id": "tz83p0y405Pi",
        "outputId": "7dcea1b2-d2b4-45f8-8560-10375da720f2"
      },
      "outputs": [
        {
          "output_type": "execute_result",
          "data": {
            "text/plain": [
              "23"
            ]
          },
          "metadata": {},
          "execution_count": 6
        }
      ],
      "source": [
        "def answer_three():\n",
        "  clCent = nx.closeness_centrality(G1)\n",
        "  max_node = max(clCent, key = clCent.get)\n",
        "  return max_node\n",
        "\n",
        "answer_three()"
      ]
    },
    {
      "cell_type": "code",
      "execution_count": 7,
      "metadata": {
        "deletable": false,
        "editable": false,
        "nbgrader": {
          "cell_type": "code",
          "checksum": "2e1468f97b3b50563f7901a826efe507",
          "grade": true,
          "grade_id": "cell-467293083292b0ee",
          "locked": true,
          "points": 1,
          "schema_version": 3,
          "solution": false,
          "task": false
        },
        "id": "zt0ubNnu05Pi"
      },
      "outputs": [],
      "source": [
        "ans_three = answer_three()\n"
      ]
    },
    {
      "cell_type": "markdown",
      "metadata": {
        "id": "Y2AV3L5A05Pi"
      },
      "source": [
        "### Question 4\n",
        "\n",
        "Assume the restriction on the voucher’s travel distance is still removed, but now a competitor has developed a strategy to remove a person from the network in order to disrupt the distribution of your company’s voucher. You competitor plans to remove people who act as bridges in the network. Identify the best possible person to be removed by your competitor?\n",
        "\n",
        "*This function should return an integer, the chosen node.*"
      ]
    },
    {
      "cell_type": "code",
      "execution_count": 8,
      "metadata": {
        "deletable": false,
        "nbgrader": {
          "cell_type": "code",
          "checksum": "9dc911a7df6860645e9238362437f051",
          "grade": false,
          "grade_id": "cell-0aa27c6d1caf2520",
          "locked": false,
          "schema_version": 3,
          "solution": true,
          "task": false
        },
        "colab": {
          "base_uri": "https://localhost:8080/"
        },
        "id": "nwyfU8E405Pi",
        "outputId": "2ae8786f-4032-4031-a7da-2d6961b840ba"
      },
      "outputs": [
        {
          "output_type": "execute_result",
          "data": {
            "text/plain": [
              "333"
            ]
          },
          "metadata": {},
          "execution_count": 8
        }
      ],
      "source": [
        "def answer_four():\n",
        "  betCent = nx.betweenness_centrality(G1)\n",
        "  max_node = max(betCent, key = betCent.get)\n",
        "  return max_node\n",
        "\n",
        "answer_four()"
      ]
    },
    {
      "cell_type": "code",
      "execution_count": 9,
      "metadata": {
        "deletable": false,
        "editable": false,
        "nbgrader": {
          "cell_type": "code",
          "checksum": "56081a428739b8cb31450aeab35025cc",
          "grade": true,
          "grade_id": "cell-338a3ca88864385b",
          "locked": true,
          "points": 1,
          "schema_version": 3,
          "solution": false,
          "task": false
        },
        "id": "IZe-pmZN05Pj"
      },
      "outputs": [],
      "source": [
        "ans_four = answer_four()\n"
      ]
    },
    {
      "cell_type": "markdown",
      "metadata": {
        "deletable": false,
        "editable": false,
        "nbgrader": {
          "cell_type": "markdown",
          "checksum": "12c2f7bcb59914f75d01928f269fbe98",
          "grade": false,
          "grade_id": "cell-935b453a17105a0a",
          "locked": true,
          "schema_version": 3,
          "solution": false,
          "task": false
        },
        "id": "SFJhsBG805Pj"
      },
      "source": [
        "## Part 2\n",
        "\n",
        "`G2` is a directed network of political blogs, where nodes correspond to a blog and edges correspond to links between blogs. Use your knowledge of PageRank and HITS to answer Questions 5-9."
      ]
    },
    {
      "cell_type": "code",
      "execution_count": 10,
      "metadata": {
        "deletable": false,
        "editable": false,
        "nbgrader": {
          "cell_type": "code",
          "checksum": "637a96884afa7ecf14892aff4fa42e19",
          "grade": false,
          "grade_id": "cell-b8d136526f53920b",
          "locked": true,
          "schema_version": 3,
          "solution": false,
          "task": false
        },
        "id": "8pzFJ25Z05Pj"
      },
      "outputs": [],
      "source": [
        "G2 = nx.read_gml('assets/blogs.gml')"
      ]
    },
    {
      "cell_type": "markdown",
      "metadata": {
        "deletable": false,
        "editable": false,
        "nbgrader": {
          "cell_type": "markdown",
          "checksum": "b4b276850611f5993838f3a03b66ebe7",
          "grade": false,
          "grade_id": "cell-39a03d40b21f8777",
          "locked": true,
          "schema_version": 3,
          "solution": false,
          "task": false
        },
        "id": "GH4o9cTf05Pj"
      },
      "source": [
        "### Question 5\n",
        "\n",
        "Apply the Scaled Page Rank Algorithm to this network. Find the Page Rank of node 'realclearpolitics.com' with damping value 0.85.\n",
        "\n",
        "*This function should return a float.*"
      ]
    },
    {
      "cell_type": "code",
      "execution_count": 11,
      "metadata": {
        "deletable": false,
        "nbgrader": {
          "cell_type": "code",
          "checksum": "02e717aae217333df19bf579a373e435",
          "grade": false,
          "grade_id": "cell-29a0e65bd30b8324",
          "locked": false,
          "schema_version": 3,
          "solution": true,
          "task": false
        },
        "tags": [],
        "colab": {
          "base_uri": "https://localhost:8080/"
        },
        "id": "BIW0XeI-05Pj",
        "outputId": "843904f9-c593-4805-809d-2c769de30437"
      },
      "outputs": [
        {
          "output_type": "execute_result",
          "data": {
            "text/plain": [
              "0.004636694781649098"
            ]
          },
          "metadata": {},
          "execution_count": 11
        }
      ],
      "source": [
        "def answer_five():\n",
        "  page_rank = nx.pagerank(G2, alpha = 0.85)\n",
        "  return page_rank['realclearpolitics.com']\n",
        "\n",
        "answer_five()"
      ]
    },
    {
      "cell_type": "code",
      "execution_count": 12,
      "metadata": {
        "deletable": false,
        "editable": false,
        "nbgrader": {
          "cell_type": "code",
          "checksum": "81e54291bb42a8502699fd65539b5150",
          "grade": true,
          "grade_id": "cell-5ade64a5771dcbce",
          "locked": true,
          "points": 1,
          "schema_version": 3,
          "solution": false,
          "task": false
        },
        "tags": [],
        "id": "_ZjmrXxs05Pj"
      },
      "outputs": [],
      "source": [
        "ans_five = answer_five()\n"
      ]
    },
    {
      "cell_type": "markdown",
      "metadata": {
        "deletable": false,
        "editable": false,
        "nbgrader": {
          "cell_type": "markdown",
          "checksum": "a89f08b44c7f26bdbb75e075da084084",
          "grade": false,
          "grade_id": "cell-57ce90c965db9007",
          "locked": true,
          "schema_version": 3,
          "solution": false,
          "task": false
        },
        "id": "CEywdDdF05Pj"
      },
      "source": [
        "### Question 6\n",
        "\n",
        "Apply the Scaled Page Rank Algorithm to this network with damping value 0.85. Find the 5 nodes with highest Page Rank.\n",
        "\n",
        "*This function should return a list of the top 5 blogs in desending order of Page Rank.*"
      ]
    },
    {
      "cell_type": "code",
      "execution_count": 13,
      "metadata": {
        "deletable": false,
        "nbgrader": {
          "cell_type": "code",
          "checksum": "d26d23e58ec6739e4c41473374e998d8",
          "grade": false,
          "grade_id": "cell-dc31ae880c39420f",
          "locked": false,
          "schema_version": 3,
          "solution": true,
          "task": false
        },
        "tags": [],
        "colab": {
          "base_uri": "https://localhost:8080/"
        },
        "id": "LPuG3UV905Pj",
        "outputId": "232bc635-3028-4bba-e156-203cb6a6361c"
      },
      "outputs": [
        {
          "output_type": "execute_result",
          "data": {
            "text/plain": [
              "['talkingpointsmemo.com',\n",
              " 'blogsforbush.com',\n",
              " 'instapundit.com',\n",
              " 'atrios.blogspot.com',\n",
              " 'dailykos.com']"
            ]
          },
          "metadata": {},
          "execution_count": 13
        }
      ],
      "source": [
        "def answer_six():\n",
        "  page_rank = nx.pagerank(G2, alpha = 0.85)\n",
        "  sort_pr = sorted(page_rank.items(), key = lambda x: x[1])[-5:]\n",
        "  return [node for node,_ in sort_pr]\n",
        "\n",
        "answer_six()"
      ]
    },
    {
      "cell_type": "code",
      "execution_count": 14,
      "metadata": {
        "deletable": false,
        "editable": false,
        "nbgrader": {
          "cell_type": "code",
          "checksum": "35f33daabdddd02cb8aff7190f206803",
          "grade": true,
          "grade_id": "cell-fa118135cb4998f4",
          "locked": true,
          "points": 1,
          "schema_version": 3,
          "solution": false,
          "task": false
        },
        "id": "LEeaxqr605Pj"
      },
      "outputs": [],
      "source": [
        "ans_six = answer_six()\n",
        "assert type(ans_six) == list, \"You must return a list\"\n"
      ]
    },
    {
      "cell_type": "markdown",
      "metadata": {
        "deletable": false,
        "editable": false,
        "nbgrader": {
          "cell_type": "markdown",
          "checksum": "c5a76856dbf671e9719971bbabb78138",
          "grade": false,
          "grade_id": "cell-6c3f521e835452f6",
          "locked": true,
          "schema_version": 3,
          "solution": false,
          "task": false
        },
        "id": "DRLdqTSJ05Pj"
      },
      "source": [
        "### Question 7\n",
        "\n",
        "Apply the HITS Algorithm to the network to find the hub and authority scores of node 'realclearpolitics.com'.\n",
        "\n",
        "*Your result should return a tuple of floats `(hub_score, authority_score)`.*"
      ]
    },
    {
      "cell_type": "code",
      "execution_count": 15,
      "metadata": {
        "deletable": false,
        "nbgrader": {
          "cell_type": "code",
          "checksum": "1a7fd3762124361f4ae94bee29b524f1",
          "grade": false,
          "grade_id": "cell-bc1c0cf4f5f4f66a",
          "locked": false,
          "schema_version": 3,
          "solution": true,
          "task": false
        },
        "colab": {
          "base_uri": "https://localhost:8080/"
        },
        "id": "svpRAZ2j05Pj",
        "outputId": "304caad5-b7ee-453c-c250-d3ee263b998b"
      },
      "outputs": [
        {
          "output_type": "execute_result",
          "data": {
            "text/plain": [
              "(0.0003243556140278741, 0.003918957644934261)"
            ]
          },
          "metadata": {},
          "execution_count": 15
        }
      ],
      "source": [
        "def answer_seven():\n",
        "  hist = nx.hits(G2)\n",
        "  return (hist[0]['realclearpolitics.com'], hist[1]['realclearpolitics.com'])\n",
        "\n",
        "answer_seven()"
      ]
    },
    {
      "cell_type": "code",
      "execution_count": 16,
      "metadata": {
        "deletable": false,
        "editable": false,
        "nbgrader": {
          "cell_type": "code",
          "checksum": "9a7d5c87aa5a9b79fdc3a54d7fe9e462",
          "grade": true,
          "grade_id": "cell-43b3de064e549ef6",
          "locked": true,
          "points": 1,
          "schema_version": 3,
          "solution": false,
          "task": false
        },
        "id": "dPOocVeG05Pj"
      },
      "outputs": [],
      "source": [
        "ans_seven = answer_seven()\n",
        "assert type(ans_seven) == tuple, \"You must return a tuple\"\n"
      ]
    },
    {
      "cell_type": "markdown",
      "metadata": {
        "deletable": false,
        "editable": false,
        "nbgrader": {
          "cell_type": "markdown",
          "checksum": "f9fb27cdffe1166fab165448b1d79a57",
          "grade": false,
          "grade_id": "cell-2efec8805be66ffb",
          "locked": true,
          "schema_version": 3,
          "solution": false,
          "task": false
        },
        "id": "7MxQcyLO05Pj"
      },
      "source": [
        "### Question 8\n",
        "\n",
        "Apply the HITS Algorithm to this network to find the 5 nodes with highest hub scores.\n",
        "\n",
        "*This function should return a list of the top 5 blogs in desending order of hub scores.*"
      ]
    },
    {
      "cell_type": "code",
      "execution_count": 17,
      "metadata": {
        "deletable": false,
        "nbgrader": {
          "cell_type": "code",
          "checksum": "3164485955ceb9e62b196ae48be2f483",
          "grade": false,
          "grade_id": "cell-8f45f0320e6c645b",
          "locked": false,
          "schema_version": 3,
          "solution": true,
          "task": false
        },
        "colab": {
          "base_uri": "https://localhost:8080/"
        },
        "id": "NFJw-AkU05Pk",
        "outputId": "fbeb36f4-3d70-4d7e-8b31-a6355ab2c9a0"
      },
      "outputs": [
        {
          "output_type": "execute_result",
          "data": {
            "text/plain": [
              "['politicalstrategy.org',\n",
              " 'madkane.com/notable.html',\n",
              " 'liberaloasis.com',\n",
              " 'stagefour.typepad.com/commonprejudice',\n",
              " 'bodyandsoul.typepad.com']"
            ]
          },
          "metadata": {},
          "execution_count": 17
        }
      ],
      "source": [
        "def answer_eight():\n",
        "  hubs = nx.hits(G2)[0]\n",
        "  sort_hubs = sorted(hubs.items(), key = lambda x: x[1], reverse=True)[:5]\n",
        "  return [node for node,_ in sort_hubs]\n",
        "\n",
        "answer_eight()"
      ]
    },
    {
      "cell_type": "code",
      "execution_count": 18,
      "metadata": {
        "deletable": false,
        "editable": false,
        "nbgrader": {
          "cell_type": "code",
          "checksum": "f71c756ab275a3a1757b7228d69c40c6",
          "grade": true,
          "grade_id": "cell-72499b780b38eb2c",
          "locked": true,
          "points": 1,
          "schema_version": 3,
          "solution": false,
          "task": false
        },
        "id": "TdtWokck05Pk"
      },
      "outputs": [],
      "source": [
        "ans_eight = answer_eight()\n",
        "assert type(ans_eight) == list, \"You must return a list\"\n"
      ]
    },
    {
      "cell_type": "markdown",
      "metadata": {
        "deletable": false,
        "editable": false,
        "nbgrader": {
          "cell_type": "markdown",
          "checksum": "dae0f2335cb499de2c891169d2cfd59a",
          "grade": false,
          "grade_id": "cell-ad6e7473dd5bac67",
          "locked": true,
          "schema_version": 3,
          "solution": false,
          "task": false
        },
        "id": "xFKBJd_Q05Pk"
      },
      "source": [
        "### Question 9\n",
        "\n",
        "Apply the HITS Algorithm to this network to find the 5 nodes with highest authority scores.\n",
        "\n",
        "*This function should return a list of the top 5 blogs in desending order of authority scores.*"
      ]
    },
    {
      "cell_type": "code",
      "execution_count": 21,
      "metadata": {
        "deletable": false,
        "nbgrader": {
          "cell_type": "code",
          "checksum": "7a4bfae22ea877ff932296dd79fb9296",
          "grade": false,
          "grade_id": "cell-2c2606d7aaaae35a",
          "locked": false,
          "schema_version": 3,
          "solution": true,
          "task": false
        },
        "colab": {
          "base_uri": "https://localhost:8080/"
        },
        "id": "D_0fOTgC05Pk",
        "outputId": "55bfcac8-4fca-4aaf-d192-de9f86977a25"
      },
      "outputs": [
        {
          "output_type": "execute_result",
          "data": {
            "text/plain": [
              "['dailykos.com',\n",
              " 'talkingpointsmemo.com',\n",
              " 'atrios.blogspot.com',\n",
              " 'washingtonmonthly.com',\n",
              " 'talkleft.com']"
            ]
          },
          "metadata": {},
          "execution_count": 21
        }
      ],
      "source": [
        "def answer_nine():\n",
        "  auths = nx.hits(G2)[1]\n",
        "  sort_auth = sorted(auths.items(), key = lambda x: x[1], reverse=True)[:5]\n",
        "  return [node for node,_ in sort_auth]\n",
        "\n",
        "answer_nine()"
      ]
    },
    {
      "cell_type": "code",
      "execution_count": 22,
      "metadata": {
        "deletable": false,
        "editable": false,
        "nbgrader": {
          "cell_type": "code",
          "checksum": "756c2b55af8f2510b32522422f1ff367",
          "grade": true,
          "grade_id": "cell-bbc73cedc13c80ca",
          "locked": true,
          "points": 1,
          "schema_version": 3,
          "solution": false,
          "task": false
        },
        "tags": [],
        "id": "Lqbc6vvC05Pk"
      },
      "outputs": [],
      "source": [
        "ans_nine = answer_nine()\n",
        "assert type(ans_nine) == list, \"You must return a list\"\n"
      ]
    }
  ],
  "metadata": {
    "kernelspec": {
      "display_name": "Python 3 (ipykernel)",
      "language": "python",
      "name": "python3"
    },
    "language_info": {
      "codemirror_mode": {
        "name": "ipython",
        "version": 3
      },
      "file_extension": ".py",
      "mimetype": "text/x-python",
      "name": "python",
      "nbconvert_exporter": "python",
      "pygments_lexer": "ipython3",
      "version": "3.8.10"
    },
    "colab": {
      "provenance": [],
      "include_colab_link": true
    }
  },
  "nbformat": 4,
  "nbformat_minor": 0
}