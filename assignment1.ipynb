{
  "cells": [
    {
      "cell_type": "markdown",
      "metadata": {
        "id": "view-in-github",
        "colab_type": "text"
      },
      "source": [
        "<a href=\"https://colab.research.google.com/github/tamnhu2913/Applied-Social-Network-Analysis/blob/main/assignment1.ipynb\" target=\"_parent\"><img src=\"https://colab.research.google.com/assets/colab-badge.svg\" alt=\"Open In Colab\"/></a>"
      ]
    },
    {
      "cell_type": "markdown",
      "metadata": {
        "deletable": false,
        "editable": false,
        "nbgrader": {
          "cell_type": "markdown",
          "checksum": "bb4e2877f2f4b2e6ed4718d2893634c1",
          "grade": false,
          "grade_id": "cell-69c39b45a3de0dce",
          "locked": true,
          "schema_version": 3,
          "solution": false,
          "task": false
        },
        "id": "WuYZph3EzQ9Y"
      },
      "source": [
        "# Assignment 1 - Creating and Manipulating Graphs\n",
        "\n",
        "Eight employees at a small company were asked to choose 3 movies that they would most enjoy watching for the upcoming company movie night. These choices are stored in the file `assets/Employee_Movie_Choices.txt`.\n",
        "\n",
        "A second file, `assets/Employee_Relationships.txt`, has data on the relationships between different coworkers.\n",
        "\n",
        "The relationship score has value of `-100` (Enemies) to `+100` (Best Friends). A value of zero means the two employees haven't interacted or are indifferent.\n",
        "\n",
        "Both files are tab delimited."
      ]
    },
    {
      "cell_type": "code",
      "execution_count": 34,
      "metadata": {
        "deletable": false,
        "editable": false,
        "nbgrader": {
          "cell_type": "code",
          "checksum": "9ebfce92d32aebeb619da8610d22bbbf",
          "grade": false,
          "grade_id": "cell-880320d7430bc93c",
          "locked": true,
          "schema_version": 3,
          "solution": false,
          "task": false
        },
        "id": "HZse9A9qzQ9a"
      },
      "outputs": [],
      "source": [
        "import networkx as nx\n",
        "import pandas as pd\n",
        "import numpy as np\n",
        "\n",
        "\n",
        "# This is the set of employees\n",
        "employees = set(['Pablo',\n",
        "                 'Lee',\n",
        "                 'Georgia',\n",
        "                 'Vincent',\n",
        "                 'Andy',\n",
        "                 'Frida',\n",
        "                 'Joan',\n",
        "                 'Claude'])\n",
        "\n",
        "# This is the set of movies\n",
        "movies = set(['The Shawshank Redemption',\n",
        "              'Forrest Gump',\n",
        "              'The Matrix',\n",
        "              'Anaconda',\n",
        "              'The Social Network',\n",
        "              'The Godfather',\n",
        "              'Monty Python and the Holy Grail',\n",
        "              'Snakes on a Plane',\n",
        "              'Kung Fu Panda',\n",
        "              'The Dark Knight',\n",
        "              'Mean Girls'])\n",
        "\n",
        "\n",
        "# you can use the following function to plot graphs\n",
        "# make sure to comment it out before submitting to the autograder\n",
        "def plot_graph(G, weight_name=None):\n",
        "    '''\n",
        "    G: a networkx G\n",
        "    weight_name: name of the attribute for plotting edge weights (if G is weighted)\n",
        "    '''\n",
        "    #%matplotlib notebook\n",
        "    import matplotlib.pyplot as plt\n",
        "\n",
        "    plt.figure()\n",
        "    pos = nx.spring_layout(G)\n",
        "    edges = G.edges()\n",
        "    weights = None\n",
        "\n",
        "    if weight_name:\n",
        "        weights = [int(G[u][v][weight_name]) for u,v in edges]\n",
        "        labels = nx.get_edge_attributes(G,weight_name)\n",
        "        nx.draw_networkx_edge_labels(G,pos,edge_labels=labels)\n",
        "        nx.draw_networkx(G, pos, width=weights);\n",
        "    else:\n",
        "        nx.draw_networkx(G, pos,);"
      ]
    },
    {
      "cell_type": "markdown",
      "metadata": {
        "deletable": false,
        "editable": false,
        "nbgrader": {
          "cell_type": "markdown",
          "checksum": "0b6347bb31ef371bbca723a98ae77ab3",
          "grade": false,
          "grade_id": "cell-1790d513ed5dcd72",
          "locked": true,
          "schema_version": 3,
          "solution": false,
          "task": false
        },
        "id": "gRI7hb1hzQ9b"
      },
      "source": [
        "### Question 1\n",
        "\n",
        "Using NetworkX, load in the bipartite graph from `assets/Employee_Movie_Choices.txt` and return that graph.\n",
        "\n",
        "*This function should return a bipartite networkx graph with 19 nodes and 24 edges*"
      ]
    },
    {
      "cell_type": "code",
      "execution_count": 35,
      "metadata": {
        "deletable": false,
        "nbgrader": {
          "cell_type": "code",
          "checksum": "e1d9e71e3686a4633566908ab722faab",
          "grade": false,
          "grade_id": "cell-e815deb246dc7c0f",
          "locked": false,
          "schema_version": 3,
          "solution": true,
          "task": false
        },
        "id": "tNY71RXazQ9c",
        "colab": {
          "base_uri": "https://localhost:8080/"
        },
        "outputId": "0c7dad7f-c3ef-4fe9-eb42-0219a912ca07"
      },
      "outputs": [
        {
          "output_type": "stream",
          "name": "stdout",
          "text": [
            "Number of nodes: 19\n",
            "Number of edges: 24\n"
          ]
        }
      ],
      "source": [
        "def answer_one():\n",
        "  df = pd.read_csv('assets/Employee_Movie_Choices.txt',\n",
        "                   sep='\\t', header=None, skiprows=1, names = ['Employee','Movie'])\n",
        "  B = nx.Graph()\n",
        "  B.add_nodes_from(employees, bipartite=0)\n",
        "  B.add_nodes_from(movies, bipartite=1)\n",
        "  B.add_edges_from(zip(df['Employee'], df['Movie']))\n",
        "  return B\n",
        "\n",
        "B = answer_one()\n",
        "print(\"Number of nodes:\", B.number_of_nodes())\n",
        "print(\"Number of edges:\", B.number_of_edges())"
      ]
    },
    {
      "cell_type": "code",
      "execution_count": 36,
      "metadata": {
        "deletable": false,
        "editable": false,
        "nbgrader": {
          "cell_type": "code",
          "checksum": "3f8a6334e337a41d20d03f2f8695869b",
          "grade": true,
          "grade_id": "cell-029237261317f603",
          "locked": true,
          "points": 2,
          "schema_version": 3,
          "solution": false,
          "task": false
        },
        "id": "4xtDZiKqzQ9c"
      },
      "outputs": [],
      "source": [
        "assert type(answer_one()) == nx.Graph , \"Your return type should be a Graph object\"\n",
        "\n"
      ]
    },
    {
      "cell_type": "markdown",
      "metadata": {
        "deletable": false,
        "editable": false,
        "nbgrader": {
          "cell_type": "markdown",
          "checksum": "31d0ec5303fd9cc6e60cd483df78a3c5",
          "grade": false,
          "grade_id": "cell-249394e1cc31d0ca",
          "locked": true,
          "schema_version": 3,
          "solution": false,
          "task": false
        },
        "id": "_u_KbosjzQ9c"
      },
      "source": [
        "### Question 2\n",
        "\n",
        "Using the graph from the previous question, add nodes attributes named `'type'` where movies have the value `'movie'` and employees have the value `'employee'` and return that graph.\n",
        "\n",
        "*This function should return a bipartite networkx graph with node attributes `{'type': 'movie'}` or `{'type': 'employee'}`*"
      ]
    },
    {
      "cell_type": "code",
      "execution_count": 37,
      "metadata": {
        "deletable": false,
        "nbgrader": {
          "cell_type": "code",
          "checksum": "c94a82f1cdebf5de6a596a3d7574e7cd",
          "grade": false,
          "grade_id": "cell-4e6cd02626012f3d",
          "locked": false,
          "schema_version": 3,
          "solution": true,
          "task": false
        },
        "id": "yY8dGBSazQ9d",
        "colab": {
          "base_uri": "https://localhost:8080/"
        },
        "outputId": "c1b8b0b1-236b-401c-d33d-5d3221539c23"
      },
      "outputs": [
        {
          "output_type": "stream",
          "name": "stdout",
          "text": [
            "Vincent {'bipartite': 0, 'type': 'employee'}\n",
            "Georgia {'bipartite': 0, 'type': 'employee'}\n",
            "Lee {'bipartite': 0, 'type': 'employee'}\n",
            "Claude {'bipartite': 0, 'type': 'employee'}\n",
            "Frida {'bipartite': 0, 'type': 'employee'}\n",
            "Pablo {'bipartite': 0, 'type': 'employee'}\n",
            "Joan {'bipartite': 0, 'type': 'employee'}\n",
            "Andy {'bipartite': 0, 'type': 'employee'}\n",
            "The Social Network {'bipartite': 1, 'type': 'movie'}\n",
            "Forrest Gump {'bipartite': 1, 'type': 'movie'}\n",
            "The Shawshank Redemption {'bipartite': 1, 'type': 'movie'}\n",
            "Monty Python and the Holy Grail {'bipartite': 1, 'type': 'movie'}\n",
            "Snakes on a Plane {'bipartite': 1, 'type': 'movie'}\n",
            "Kung Fu Panda {'bipartite': 1, 'type': 'movie'}\n",
            "The Godfather {'bipartite': 1, 'type': 'movie'}\n",
            "Anaconda {'bipartite': 1, 'type': 'movie'}\n",
            "The Dark Knight {'bipartite': 1, 'type': 'movie'}\n",
            "The Matrix {'bipartite': 1, 'type': 'movie'}\n",
            "Mean Girls {'bipartite': 1, 'type': 'movie'}\n"
          ]
        }
      ],
      "source": [
        "def answer_two():\n",
        "  B = answer_one()\n",
        "  types = ['employee','movie']\n",
        "  node_types = {node[0]: types[node[1]] for node in B.nodes(data='bipartite')}\n",
        "  nx.set_node_attributes(B, node_types, 'type')\n",
        "  return B\n",
        "\n",
        "B = answer_two()\n",
        "for node, attr in B.nodes(data=True):\n",
        "  print(node, attr)"
      ]
    },
    {
      "cell_type": "code",
      "execution_count": 38,
      "metadata": {
        "deletable": false,
        "editable": false,
        "nbgrader": {
          "cell_type": "code",
          "checksum": "6df8d9fd4f193c5997afafc0c55a4723",
          "grade": true,
          "grade_id": "cell-c0500f828d5662fb",
          "locked": true,
          "points": 2,
          "schema_version": 3,
          "solution": false,
          "task": false
        },
        "id": "TQFGRZdXzQ9d"
      },
      "outputs": [],
      "source": [
        "assert type(answer_two()) == nx.Graph , \"Your return type should be a Graph object\"\n"
      ]
    },
    {
      "cell_type": "markdown",
      "metadata": {
        "deletable": false,
        "editable": false,
        "nbgrader": {
          "cell_type": "markdown",
          "checksum": "eb66ee80f345c2a630a06e6535bdccc0",
          "grade": false,
          "grade_id": "cell-533037784f789d72",
          "locked": true,
          "schema_version": 3,
          "solution": false,
          "task": false
        },
        "id": "aKjvSnmszQ9d"
      },
      "source": [
        "### Question 3\n",
        "\n",
        "Find a weighted projection of the graph from `answer_two` which tells us how many movies different pairs of employees have in common.\n",
        "\n",
        "*This function should return a weighted projected graph.*"
      ]
    },
    {
      "cell_type": "code",
      "execution_count": 39,
      "metadata": {
        "deletable": false,
        "nbgrader": {
          "cell_type": "code",
          "checksum": "6a379f240aa02023d75b7defe4b11416",
          "grade": false,
          "grade_id": "cell-e85f388dda0fc212",
          "locked": false,
          "schema_version": 3,
          "solution": true,
          "task": false
        },
        "id": "BQaaChJHzQ9d"
      },
      "outputs": [],
      "source": [
        "def answer_three():\n",
        "  B = answer_two()\n",
        "  P = nx.algorithms.bipartite.weighted_projected_graph(B, employees)\n",
        "  return P"
      ]
    },
    {
      "cell_type": "code",
      "execution_count": 40,
      "metadata": {
        "deletable": false,
        "editable": false,
        "nbgrader": {
          "cell_type": "code",
          "checksum": "f26f092b5bdb8dfe0331595b6c463ea4",
          "grade": false,
          "grade_id": "cell-6b4a16b4c1bab3d2",
          "locked": true,
          "schema_version": 3,
          "solution": false,
          "task": false
        },
        "id": "XvQMYTPbzQ9e",
        "colab": {
          "base_uri": "https://localhost:8080/",
          "height": 493
        },
        "outputId": "79344b39-55c4-459b-817f-61f455ba2408"
      },
      "outputs": [
        {
          "output_type": "execute_result",
          "data": {
            "text/plain": [
              "EdgeDataView([('Vincent', 'Pablo', {'weight': 1}), ('Vincent', 'Frida', {'weight': 2}), ('Georgia', 'Claude', {'weight': 3}), ('Georgia', 'Andy', {'weight': 1}), ('Lee', 'Joan', {'weight': 3}), ('Lee', 'Andy', {'weight': 1}), ('Claude', 'Andy', {'weight': 1}), ('Frida', 'Pablo', {'weight': 2}), ('Frida', 'Andy', {'weight': 1}), ('Pablo', 'Andy', {'weight': 1}), ('Joan', 'Andy', {'weight': 1})])"
            ]
          },
          "metadata": {},
          "execution_count": 40
        },
        {
          "output_type": "display_data",
          "data": {
            "text/plain": [
              "<Figure size 640x480 with 1 Axes>"
            ],
            "image/png": "[encoded data removed]"
          },
          "metadata": {}
        }
      ],
      "source": [
        "G = answer_three()\n",
        "plot_graph(G, weight_name=\"weight\")\n",
        "G.edges(data = True)"
      ]
    },
    {
      "cell_type": "code",
      "execution_count": 41,
      "metadata": {
        "deletable": false,
        "editable": false,
        "nbgrader": {
          "cell_type": "code",
          "checksum": "bfcb5ab968326a6601fb98510d7d61bd",
          "grade": true,
          "grade_id": "cell-2778b8d02bc4ca1c",
          "locked": true,
          "points": 1,
          "schema_version": 3,
          "solution": false,
          "task": false
        },
        "id": "NzySSLSHzQ9e"
      },
      "outputs": [],
      "source": [
        "assert type(answer_three()) == nx.Graph , \"Your return type should be a Graph object\"\n"
      ]
    },
    {
      "cell_type": "markdown",
      "metadata": {
        "deletable": false,
        "editable": false,
        "nbgrader": {
          "cell_type": "markdown",
          "checksum": "f30fedf55c4d28936a56146e82a4318f",
          "grade": false,
          "grade_id": "cell-7334d98bbe114440",
          "locked": true,
          "schema_version": 3,
          "solution": false,
          "task": false
        },
        "id": "heFYpaBMzQ9e"
      },
      "source": [
        "### Question 4\n",
        "\n",
        "Suppose you'd like to find out if people that have a high relationship score also like the same types of movies.\n",
        "\n",
        "Find the pearson correlation between employee relationship scores and the number of movies they have in common. If two employees have no movies in common it should be treated as a 0, not a missing value, and should be included in the correlation calculation.\n",
        "\n",
        "*This function should return a float.*"
      ]
    },
    {
      "cell_type": "code",
      "execution_count": 45,
      "metadata": {
        "deletable": false,
        "nbgrader": {
          "cell_type": "code",
          "checksum": "2b46a672ad43d429dc76893d15b8e76a",
          "grade": false,
          "grade_id": "cell-6c1b9a8d087e47c8",
          "locked": false,
          "schema_version": 3,
          "solution": true,
          "task": false
        },
        "id": "-prL3fgVzQ9e",
        "colab": {
          "base_uri": "https://localhost:8080/"
        },
        "outputId": "426ef97d-88c2-4b22-b67b-4a61f45d18dd"
      },
      "outputs": [
        {
          "output_type": "execute_result",
          "data": {
            "text/plain": [
              "0.7883962221733474"
            ]
          },
          "metadata": {},
          "execution_count": 45
        }
      ],
      "source": [
        "def answer_four():\n",
        "  G = answer_three()\n",
        "  n_movies = pd.DataFrame(G.edges(data = 'weight'), columns = [0,1, 'n_movies'])\n",
        "  n_movies = pd.concat([n_movies, n_movies[[1,0,'n_movies']].rename(columns={1:0, 0:1})]\n",
        "              , ignore_index = True)\n",
        "\n",
        "  df_score = pd.read_csv('assets/Employee_Relationships.txt',\n",
        "                         sep = '\\t', header=None)\n",
        "  df_score.columns =  [0,1,'Score']\n",
        "\n",
        "  merged = pd.merge(df_score, n_movies, how = 'left', left_on = [0,1], right_on = [0,1])\n",
        "  merged.fillna(0, inplace = True)\n",
        "\n",
        "  corr = merged['n_movies'].corr(merged['Score'])\n",
        "  return corr\n",
        "\n",
        "answer_four()"
      ]
    }
  ],
  "metadata": {
    "anaconda-cloud": {},
    "kernelspec": {
      "display_name": "Python 3 (ipykernel)",
      "language": "python",
      "name": "python3"
    },
    "language_info": {
      "codemirror_mode": {
        "name": "ipython",
        "version": 3
      },
      "file_extension": ".py",
      "mimetype": "text/x-python",
      "name": "python",
      "nbconvert_exporter": "python",
      "pygments_lexer": "ipython3",
      "version": "3.10.8"
    },
    "colab": {
      "provenance": [],
      "include_colab_link": true
    }
  },
  "nbformat": 4,
  "nbformat_minor": 0
}